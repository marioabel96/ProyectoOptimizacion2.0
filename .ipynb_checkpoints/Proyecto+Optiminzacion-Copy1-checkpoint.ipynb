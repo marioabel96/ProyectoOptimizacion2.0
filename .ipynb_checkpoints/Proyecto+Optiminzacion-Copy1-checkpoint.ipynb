{
 "cells": [
  {
   "cell_type": "markdown",
   "metadata": {},
   "source": [
    "# PROYECTO DE OPTIMIZACÍON \n",
    "\n",
    "Por: \n",
    "Abel García,\n",
    "Adriana Elizabeth Day Morales\n",
    "\n",
    "\n",
    "# Problema de descubrir datos ocultos \n",
    " \n",
    "##### Descripción General\n",
    " \n",
    "Supongamos que el Instituto Nacional de Estadística publica la tabla de datos recogida como tabla 2 con distintos gastos medios de diversos colectivos de una región. Nótese que se dan tanto datos concretos como sumas marginales y totales. Sin embargo, algunos datos se consideran confidenciales, ya que su publicación revelaría información privada. Por ejemplo, se considera que el dato referente al gasto medio en “vicios” de los “obispos” de una región es información confidencial, porque en dicha región sólo hay 1 obispo y, por ello, su publicación estaría revelando información de un individuo con nombre y apellidos conocidos. No ocurre igual con otros colectivos porque tienen más miembros. No obstante, algunos deben igualmente ser suprimidos para proteger el caso anterior. Los datos suprimidos son los que aparecen marcados con asterisco. Si sólo sabemos que ninguno de los datos ocultos puede ser negativo. En este proyecto se encotntrará el rango mas estrecho de valores de la tabla que revelará el gasto del obispo en vicios.\n",
    "\n",
    "##### Objetivo General \n",
    "\n",
    "- Encontrar el minimo y el máximo de valores del gasto del obispo en vicios (que aparencen ocultos) segun la tabla del Instituto Nacional de Estadística Pública.\n",
    "- Verificar que el rango sea coherente con la suma del gasto total del obispo. \n",
    "\n",
    "\n",
    "##### Objetivos Específicos\n",
    "\n",
    "- Mostrar la tabla con los gastos totales de cada persona en las columnas y los gastos totales por categoría en las filas.\n",
    "- Sumar las filas y las columnas dejando como incógnitas los datos ocultos (en este caso las celdas marcadas por asteriscos).\n",
    "- Marcar las restricciones. Según el problema, lo único que sabemos es que en ningun  momento el valor de la celda será negativo.\n",
    "- Maximizar y minimizar la variable que corresponde a la casilla de gastos del obispo en vicios.\n",
    "- Obtener el rango de valores posibles, donde el minimo y el maximo son los valores encontrados en el punto anterior.\n",
    "\n",
    " "
   ]
  },
  {
   "cell_type": "code",
   "execution_count": 1,
   "metadata": {},
   "outputs": [
    {
     "data": {
      "text/html": [
       "<div>\n",
       "<style>\n",
       "    .dataframe thead tr:only-child th {\n",
       "        text-align: right;\n",
       "    }\n",
       "\n",
       "    .dataframe thead th {\n",
       "        text-align: left;\n",
       "    }\n",
       "\n",
       "    .dataframe tbody tr th {\n",
       "        vertical-align: top;\n",
       "    }\n",
       "</style>\n",
       "<table border=\"1\" class=\"dataframe\">\n",
       "  <thead>\n",
       "    <tr style=\"text-align: right;\">\n",
       "      <th></th>\n",
       "      <th>Policia</th>\n",
       "      <th>Profesor</th>\n",
       "      <th>Maestro</th>\n",
       "      <th>Vigilante</th>\n",
       "      <th>Obispo</th>\n",
       "      <th>Estudiante</th>\n",
       "      <th>TOTAL</th>\n",
       "    </tr>\n",
       "  </thead>\n",
       "  <tbody>\n",
       "    <tr>\n",
       "      <th>Lectura</th>\n",
       "      <td>5</td>\n",
       "      <td>345</td>\n",
       "      <td>130</td>\n",
       "      <td>15</td>\n",
       "      <td>212</td>\n",
       "      <td>105</td>\n",
       "      <td>812</td>\n",
       "    </tr>\n",
       "    <tr>\n",
       "      <th>Vicios</th>\n",
       "      <td>52</td>\n",
       "      <td>*</td>\n",
       "      <td>212</td>\n",
       "      <td>234</td>\n",
       "      <td>*</td>\n",
       "      <td>234</td>\n",
       "      <td>953</td>\n",
       "    </tr>\n",
       "    <tr>\n",
       "      <th>Gimnasia</th>\n",
       "      <td>432</td>\n",
       "      <td>*</td>\n",
       "      <td>45</td>\n",
       "      <td>*</td>\n",
       "      <td>7</td>\n",
       "      <td>32</td>\n",
       "      <td>726</td>\n",
       "    </tr>\n",
       "    <tr>\n",
       "      <th>Ropa</th>\n",
       "      <td>34</td>\n",
       "      <td>90</td>\n",
       "      <td>85</td>\n",
       "      <td>*</td>\n",
       "      <td>*</td>\n",
       "      <td>52</td>\n",
       "      <td>271</td>\n",
       "    </tr>\n",
       "    <tr>\n",
       "      <th>TOTAL</th>\n",
       "      <td>523</td>\n",
       "      <td>576</td>\n",
       "      <td>472</td>\n",
       "      <td>447</td>\n",
       "      <td>321</td>\n",
       "      <td>423</td>\n",
       "      <td>2762</td>\n",
       "    </tr>\n",
       "  </tbody>\n",
       "</table>\n",
       "</div>"
      ],
      "text/plain": [
       "          Policia Profesor  Maestro Vigilante Obispo  Estudiante  TOTAL\n",
       "Lectura         5      345      130        15    212         105    812\n",
       "Vicios         52        *      212       234      *         234    953\n",
       "Gimnasia      432        *       45         *      7          32    726\n",
       "Ropa           34       90       85         *      *          52    271\n",
       "TOTAL         523      576      472       447    321         423   2762"
      ]
     },
     "execution_count": 1,
     "metadata": {},
     "output_type": "execute_result"
    }
   ],
   "source": [
    "import pandas as pd\n",
    "import sympy as sym\n",
    "sym.init_printing(use_latex='mathjax')\n",
    "\n",
    "cols = ['Policia', 'Profesor', 'Maestro', 'Vigilante', 'Obispo', 'Estudiante' , 'TOTAL']\n",
    "\n",
    "info = pd.DataFrame({'Policia': [5, 52, 432, 34, 523], 'Profesor': [345, '*', '*', 90, 576], 'Maestro': [130, 212, 45, 85, 472], 'Obispo': [212, '*', 7, '*', 321],'Estudiante': [105, 234, 32 ,52, 423], 'Vigilante': [15, 234, '*', '*', 447], 'TOTAL': [812, 953, 726, 271, 2762] ,}, index = ['Lectura', 'Vicios', 'Gimnasia', 'Ropa', 'TOTAL'])\n",
    "info = info[cols]\n",
    "info"
   ]
  },
  {
   "cell_type": "markdown",
   "metadata": {},
   "source": [
    "##### Modelo matemático  y simulación\n",
    "\n",
    " Consideremos una variable $x_{ij}$ asociada a cada celda (es decir, a cada fila i y a cada columna j) representando el verdadero valor en la tabla. Es claro que las variables no son independientes entre sí, sino que están atadas por ecuaciones: una por cada fila y por cada columna. Así cualquier tabla de valores posibles para esta tabla debe cumplir: "
   ]
  },
  {
   "cell_type": "markdown",
   "metadata": {},
   "source": [
    "Sean:\n",
    "    \n",
    "- $x_{11}$ + $x_{12}$ +$x_{13}$ + $x_{14}$+ $x_{15}$+ $x_{16}$ = $x_{17}$\n",
    "\n",
    "- $x_{21}$ + $x_{22}$ +$x_{23}$ + $x_{24}$+ $x_{25}$+ $x_{26}$ = $x_{27}$\n",
    "\n",
    "- $x_{31}$ + $x_{32}$ +$x_{33}$ + $x_{34}$+ $x_{35}$+ $x_{36}$ = $x_{37}$\n",
    "\n",
    "- $x_{41}$ + $x_{42}$ +$x_{43}$ + $x_{44}$+ $x_{45}$+ $x_{46}$ = $x_{47}$\n",
    "\n",
    "- $x_{51}$ + $x_{52}$ +$x_{53}$ + $x_{54}$+ $x_{55}$+ $x_{56}$ = $x_{57}$\n",
    "\n",
    "\n",
    "- $x_{11}$ + $x_{21}$+ $x_{31}$+ $x_{41}$ = $x_{51}$\n",
    "\n",
    "- $x_{12}$ + $x_{22}$+ $x_{32}$+ $x_{42}$ = $x_{52}$\n",
    "\n",
    "- $x_{13}$ + $x_{23}$+ $x_{33}$+ $x_{43}$ = $x_{53}$\n",
    "\n",
    "- $x_{14}$ + $x_{24}$+ $x_{34}$+ $x_{44}$ = $x_{54}$\n",
    "\n",
    "- $x_{15}$ + $x_{25}$+ $x_{35}$+ $x_{45}$ = $x_{55}$\n",
    "\n",
    "- $x_{16}$ + $x_{26}$+ $x_{36}$+ $x_{46}$ = $x_{56}$\n",
    "\n",
    "- $x_{17}$ + $x_{27}$+ $x_{37}$+ $x_{47}$ = $x_{57}$\n",
    "\n",
    "\n",
    "- $x_{11}, x_{12}...x_{56}, x_{57} \\geq x_{51}$\n",
    "\n",
    "\n"
   ]
  },
  {
   "cell_type": "markdown",
   "metadata": {},
   "source": [
    "Además hay variables que en realidad son parámetros (aquellas asociadas a celdas cuyos verdaderos valores serán publicados) y hay otras de las que sólo sabemos que son no negativas. Por ello, el conjunto de todas las posibilidades que además son compatibles con la tabla publicada cumplirán:"
   ]
  },
  {
   "cell_type": "markdown",
   "metadata": {},
   "source": [
    "- $x_{22}$+ $x_{25}$ = 221\n",
    "- $x_{32}$+ $x_{34}$ = 210\n",
    "- $x_{44}$+ $x_{45}$ = 10\n",
    "\n",
    "\n",
    "- $x_{22}$+ $x_{32}$ = 141\n",
    "- $x_{34}$+ $x_{44}$ = 198\n",
    "- $x_{25}$+ $x_{45}$ = 102\n",
    "\n",
    "- $x_{22}, x_{25}, x_{32}, x_{34}, x_{44}, x_{45} \\geq 0$"
   ]
  },
  {
   "cell_type": "markdown",
   "metadata": {},
   "source": [
    "Ahora el problema planteado consiste en resolver dos problemas lineales, minimizando y maximizando la variable $x_{25}$  , respectivamente. Ambos valores óptimos definen el rango dentro del cual debe estar el valor no publicado de la celda en fila 2 y columna 5.  Este tipo de problemas se llama problema del curioso, y es particularmente relevante en el control de la privacidad durante la publicación de tablas estadísticas. En este contexto aparecen numerosos problemas diferentes de optimización, como el que se plantea un instituto de estadística cuando desea encontrar las celdas que no debe publicar en una tabla estadística para asegurar ciertos niveles de protección en algunas celdas consideradas “sensibles”. "
   ]
  },
  {
   "cell_type": "markdown",
   "metadata": {},
   "source": [
    "# Aplicación\n",
    "\n",
    "## minimizado:"
   ]
  },
  {
   "cell_type": "code",
   "execution_count": 2,
   "metadata": {
    "collapsed": true
   },
   "outputs": [],
   "source": [
    "import numpy as np\n",
    "import scipy.optimize as opt\n",
    "\n",
    "c = np.array([0, 1, 0, 0, 0, 0])\n",
    "A = np.array([[1, 1, 0, 0, 0, 0,], [0, 0, 1, 1, 0, 0], [0, 0, 0, 0, 1, 1,], [1, 0, 1, 0, 0, 0,], [0, 0, 0, 1, 1, 0], [0, 1, 0, 0, 0, 1,]])\n",
    "b = np.array([221, 210, 10, 141, 198, 102])\n",
    "x22_cota = (0, None)\n",
    "x25_cota = (0, None)\n",
    "x32_cota = (0, None)\n",
    "x34_cota = (0, None)\n",
    "x44_cota = (0, None)\n",
    "x45_cota = (0, None)\n",
    "\n"
   ]
  },
  {
   "cell_type": "code",
   "execution_count": 3,
   "metadata": {
    "collapsed": true
   },
   "outputs": [],
   "source": [
    "res_min = opt.linprog(c, A_eq=A, b_eq=b, bounds = (x22_cota,x25_cota,x32_cota,x34_cota,x44_cota,x45_cota))"
   ]
  },
  {
   "cell_type": "code",
   "execution_count": 4,
   "metadata": {},
   "outputs": [
    {
     "data": {
      "text/plain": [
       "     fun: 92.0\n",
       " message: 'Optimization terminated successfully.'\n",
       "     nit: 6\n",
       "   slack: array([], dtype=float64)\n",
       "  status: 0\n",
       " success: True\n",
       "       x: array([ 129.,   92.,   12.,  198.,    0.,   10.])"
      ]
     },
     "execution_count": 4,
     "metadata": {},
     "output_type": "execute_result"
    }
   ],
   "source": [
    "res_min"
   ]
  },
  {
   "cell_type": "markdown",
   "metadata": {},
   "source": [
    "## maximizando:"
   ]
  },
  {
   "cell_type": "code",
   "execution_count": 5,
   "metadata": {
    "collapsed": true
   },
   "outputs": [],
   "source": [
    "import numpy as np\n",
    "import scipy.optimize as opt\n",
    "\n",
    "c = np.array([0, -1, 0, 0, 0, 0])\n",
    "A = np.array([[1, 1, 0, 0, 0, 0,], [0, 0, 1, 1, 0, 0], [0, 0, 0, 0, 1, 1,], [1, 0, 1, 0, 0, 0,], [0, 0, 0, 1, 1, 0], [0, 1, 0, 0, 0, 1,]])\n",
    "b = np.array([221, 210, 10, 141, 198, 102])\n",
    "x22_cota = (0, None)\n",
    "x25_cota = (0, None)\n",
    "x32_cota = (0, None)\n",
    "x34_cota = (0, None)\n",
    "x44_cota = (0, None)\n",
    "x45_cota = (0, None)\n",
    "\n"
   ]
  },
  {
   "cell_type": "code",
   "execution_count": 6,
   "metadata": {},
   "outputs": [
    {
     "data": {
      "text/plain": [
       "     fun: -102.0\n",
       " message: 'Optimization terminated successfully.'\n",
       "     nit: 5\n",
       "   slack: array([], dtype=float64)\n",
       "  status: 0\n",
       " success: True\n",
       "       x: array([ 119.,  102.,   22.,  188.,   10.,    0.])"
      ]
     },
     "execution_count": 6,
     "metadata": {},
     "output_type": "execute_result"
    }
   ],
   "source": [
    "res_max = opt.linprog(c, A_eq=A, b_eq=b, bounds = (x22_cota,x25_cota,x32_cota,x34_cota,x44_cota,x45_cota))\n",
    "res_max"
   ]
  },
  {
   "cell_type": "code",
   "execution_count": 7,
   "metadata": {},
   "outputs": [
    {
     "data": {
      "text/latex": [
       "$$102.0$$"
      ],
      "text/plain": [
       "102.0"
      ]
     },
     "execution_count": 7,
     "metadata": {},
     "output_type": "execute_result"
    }
   ],
   "source": [
    "res_max.x[1]"
   ]
  },
  {
   "cell_type": "code",
   "execution_count": 8,
   "metadata": {},
   "outputs": [
    {
     "data": {
      "text/latex": [
       "$$92.0$$"
      ],
      "text/plain": [
       "92.0"
      ]
     },
     "execution_count": 8,
     "metadata": {},
     "output_type": "execute_result"
    }
   ],
   "source": [
    "res_min.x[1]"
   ]
  },
  {
   "cell_type": "markdown",
   "metadata": {},
   "source": [
    "# Conclusiones \n",
    "Podemos concluir que el rango de información sensible en este caso de los **$vicios$** **$del$** **$obispo$** encontrado en la celda  $x_{25}$ esta dentro de \n",
    "\n",
    "- $\\mathcal{X_{25}}=\\left[92,102\\right]$.\n",
    "\n",
    "Donde el mínimo fue dado por la funcion de minimizar y el máximo por la de maximizar, como era de esperarse. "
   ]
  },
  {
   "cell_type": "markdown",
   "metadata": {},
   "source": [
    "Esto es factible ya que si sumamos el máximo en las columnas da un total de $321$ da el máximo permitido en los gastos del **obispo**."
   ]
  },
  {
   "cell_type": "markdown",
   "metadata": {
    "collapsed": true
   },
   "source": [
    "## Referencias \n",
    "Juan J. Salazar González (2003) **\"Sociedad, Ciencia, Tecnología y Matemáticas\"** consultado de https://imarrero.webs.ull.es/sctm03.v2/modulo1/JJSalazar.pdf el 26 de febrero del 2018\n"
   ]
  }
 ],
 "metadata": {
  "kernelspec": {
   "display_name": "Python 3",
   "language": "python",
   "name": "python3"
  },
  "language_info": {
   "codemirror_mode": {
    "name": "ipython",
    "version": 3
   },
   "file_extension": ".py",
   "mimetype": "text/x-python",
   "name": "python",
   "nbconvert_exporter": "python",
   "pygments_lexer": "ipython3",
   "version": "3.6.1"
  }
 },
 "nbformat": 4,
 "nbformat_minor": 2
}
